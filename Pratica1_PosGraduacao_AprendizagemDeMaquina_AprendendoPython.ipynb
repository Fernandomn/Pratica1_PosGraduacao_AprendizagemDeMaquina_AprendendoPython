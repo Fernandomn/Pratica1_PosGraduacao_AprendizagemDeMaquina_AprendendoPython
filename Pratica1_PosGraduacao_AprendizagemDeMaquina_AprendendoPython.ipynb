{
  "cells": [
    {
      "cell_type": "markdown",
      "metadata": {
        "id": "view-in-github",
        "colab_type": "text"
      },
      "source": [
        "<a href=\"https://colab.research.google.com/github/Fernandomn/Pratica1_PosGraduacao_AprendizagemDeMaquina_AprendendoPython/blob/main/Pratica1_PosGraduacao_AprendizagemDeMaquina_AprendendoPython.ipynb\" target=\"_parent\"><img src=\"https://colab.research.google.com/assets/colab-badge.svg\" alt=\"Open In Colab\"/></a>"
      ]
    },
    {
      "cell_type": "markdown",
      "metadata": {
        "deletable": true,
        "editable": true,
        "id": "T8c4goQ6hJCB"
      },
      "source": [
        "Olá pessoal, essa é nossa primeira prática. Durante nosso curso elas serão recorrentes e a mão na massa será nossa marca registrada.Essas atividades não são avaliativas e servem para que você possa praticar.\n",
        "\n",
        "---\n",
        "Pratica 1 - O Básico de Python\n",
        "\n",
        "Se você nunca teve contato com essa linguagem aqui teremos alguns exercícios simples para que você entenda os elementos básicos da sintaxe e funções simples.\n",
        "---\n",
        "\n",
        "Vamos começar?"
      ]
    },
    {
      "cell_type": "markdown",
      "metadata": {
        "deletable": true,
        "editable": true,
        "id": "_fDj_4sGlAaU"
      },
      "source": [
        "Exercicio 1 - Entrada de dados e atribuições\n",
        "\n",
        "Faça um script que pergunte quanto você ganha por hora e o número de horas trabalhadas no mês. Calcule e mostre o total do seu salário no referido mês, sabendo-se que são descontados 11% para o Imposto de Renda, 8% para o INSS e 5% para o sindicato, faça um programa que nos dê:\n",
        "salário bruto.\n",
        "quanto pagou ao INSS.\n",
        "quanto pagou ao sindicato.\n",
        "o salário líquido.\n",
        "calcule os descontos e o salário líquido, conforme a tabela abaixo:\n",
        "+ Salário Bruto : RS\n",
        "- IR (11%) : RS\n",
        "- INSS (8%) : RS\n",
        "- Sindicato (5%) : RS\n",
        "= Salário Liquido : RS\n",
        "\n",
        "Obs.: Salário Bruto - Descontos = Salário Líquido.![alt text](https://)"
      ]
    },
    {
      "cell_type": "code",
      "execution_count": null,
      "metadata": {
        "colab": {
          "base_uri": "https://localhost:8080/"
        },
        "collapsed": true,
        "deletable": true,
        "editable": true,
        "id": "2K_6p54sk_QW",
        "outputId": "6c9d923a-09fb-430c-93a4-61a5bc369a6e"
      },
      "outputs": [
        {
          "output_type": "stream",
          "name": "stdout",
          "text": [
            "Quanto você ganha por hora?: 30\n",
            "Quantas horas trabalhou no mês desejado?: 160\n",
            "Salário Bruto: R$ 4800.0\n",
            "IR: R$528.0\n",
            "INSS: R$384.0\n",
            "Desconto sindical: R$240.0\n",
            "Salário Líquido: R$3648.0\n"
          ]
        }
      ],
      "source": [
        "# Exercicio 1\n",
        "# a = int(input(\"Lendo um número: \"))\n",
        "# print(\"imprimindo o numero\", a)\n",
        "valorHora = float(input(\"Quanto você ganha por hora?: \"))\n",
        "horasTrabalhadas = float(input(\"Quantas horas trabalhou no mês desejado?: \"))\n",
        "\n",
        "salarioBruto = valorHora * horasTrabalhadas\n",
        "descontoIR = salarioBruto * 0.11\n",
        "descontoINSS = salarioBruto * 0.08\n",
        "descontoSindical = salarioBruto * 0.05\n",
        "salarioLiquido = salarioBruto - descontoIR - descontoINSS - descontoSindical\n",
        "\n",
        "print(f\"Salário Bruto: R$ {salarioBruto}\")\n",
        "print(f\"IR: R${descontoIR}\")\n",
        "print(f\"INSS: R${descontoINSS}\")\n",
        "print(f\"Desconto sindical: R${descontoSindical}\")\n",
        "print(f\"Salário Líquido: R${salarioLiquido}\")"
      ]
    },
    {
      "cell_type": "markdown",
      "metadata": {
        "deletable": true,
        "editable": true,
        "id": "j_tQ6oHfk_x1"
      },
      "source": [
        "Exercicio 2 - Condicional\n",
        "\n",
        "Faça um programa que lê as duas notas parciais obtidas por um aluno numa disciplina ao longo de um semestre, e calcule a sua média. A atribuição de conceitos obedece à tabela abaixo:\n",
        "\n",
        "Média de Aproveitamento\n",
        "*   A - Entre 9.0 e 10.0        \n",
        "*   B - Entre 7.5 e 9.0\n",
        "*   C - Entre 6.0 e 7.5\n",
        "*   D - Entre 4.0 e 6.0\n",
        "*   E - Entre 4.0 e zero"
      ]
    },
    {
      "cell_type": "code",
      "execution_count": null,
      "metadata": {
        "colab": {
          "base_uri": "https://localhost:8080/"
        },
        "deletable": true,
        "editable": true,
        "id": "CXIA-dDFoNB2",
        "outputId": "438007e8-5e9e-4c6a-b367-ad944f212c6f"
      },
      "outputs": [
        {
          "output_type": "stream",
          "name": "stdout",
          "text": [
            "insira a primeira nota: 10\n",
            "insira a segunda nota: 6\n",
            "O conceito do aluno é B\n"
          ]
        }
      ],
      "source": [
        "#x = int(input(\"Please enter an integer: \"))\n",
        "#y = int(input(\"Please other integer: \"))\n",
        "#if x < 0 and y > 0:\n",
        "#     x = 0\n",
        "#     print('Negative changed to zero')\n",
        "#elif x == 0 or y == 0:\n",
        "#     print('Zero')\n",
        "#elif x == 1:\n",
        "#     print('Single')\n",
        "#else:\n",
        "#     print('More')\n",
        "nota1 = float(input(\"insira a primeira nota: \"))\n",
        "nota2 = float(input(\"insira a segunda nota: \"))\n",
        "media = (nota1 + nota2)/2\n",
        "\n",
        "conceito = \"A\" if (9 <= media and media <= 10) else \"B\" if (7.5 <= media and media < 9) else \"C\" if (6 <= media and media < 7.5) else \"D\" if (4 <= media and media < 6) else \"E\"\n",
        "# if (9 <= media and media <= 10):\n",
        "#   conceito = \"A\"\n",
        "# elif (7.5 <= media and media < 9):\n",
        "#   conceito = \"B\"\n",
        "# elif (6 <= media and media < 7.5):\n",
        "#   conceito = \"C\"\n",
        "# elif (4 <= media and media < 6):\n",
        "#   conceito = \"D\"\n",
        "# else:\n",
        "#   conceito = \"E\"\n",
        "print(f\"O conceito do aluno é {conceito}\")"
      ]
    },
    {
      "cell_type": "markdown",
      "metadata": {
        "deletable": true,
        "editable": true,
        "id": "fzUkE_DSobou"
      },
      "source": [
        "Exercicio 3 - Loop For\n",
        "\n",
        "Desenvolva um gerador de tabuada, capaz de gerar a tabuada de qualquer número inteiro entre 1 a 10. O usuário deve informar de qual numero ele deseja ver a tabuada. A saída deve ser conforme o exemplo abaixo:\n",
        "Tabuada de 5:\n",
        "- \"5 X 1 = 5\"\n",
        "- \"5 X 2 = 10\"\n",
        "- \"...\"\n",
        "- \"5 X 10 = 50\"\n"
      ]
    },
    {
      "cell_type": "code",
      "execution_count": null,
      "metadata": {
        "colab": {
          "base_uri": "https://localhost:8080/"
        },
        "collapsed": true,
        "deletable": true,
        "editable": true,
        "id": "V8SpxyZYpBwk",
        "outputId": "b05608ea-c400-437a-c401-56e0d42fab6a"
      },
      "outputs": [
        {
          "output_type": "stream",
          "name": "stdout",
          "text": [
            "Digite o número desejado: 8\n",
            "8 X 1 = 8\n",
            "8 X 2 = 16\n",
            "8 X 3 = 24\n",
            "8 X 4 = 32\n",
            "8 X 5 = 40\n",
            "8 X 6 = 48\n",
            "8 X 7 = 56\n",
            "8 X 8 = 64\n",
            "8 X 9 = 72\n",
            "8 X 10 = 80\n"
          ]
        }
      ],
      "source": [
        "# for i in range(5):\n",
        "#     print(i)\n",
        "\n",
        "# for i in range(0, 10, 3)\n",
        "#     print(i)\n",
        "\n",
        "n = int(input(\"Digite o número desejado: \"))\n",
        "for i in range(1, 11):\n",
        "  print (f\"{n} X {i} = {n*i}\")"
      ]
    },
    {
      "cell_type": "markdown",
      "metadata": {
        "deletable": true,
        "editable": true,
        "id": "_sd0fRQkpO9A"
      },
      "source": [
        "Exercicio 4 - Loop While\n",
        "\n",
        "Faça uma rotina que leia um nome de usuário e a sua senha e não aceite a senha igual ao nome do usuário, mostrando uma mensagem de erro e voltando a pedir as informações."
      ]
    },
    {
      "cell_type": "code",
      "execution_count": null,
      "metadata": {
        "colab": {
          "base_uri": "https://localhost:8080/"
        },
        "collapsed": true,
        "deletable": true,
        "editable": true,
        "id": "44czarxvpOaS",
        "outputId": "53e8cea3-5a98-4e5c-c5af-c3f6e115985a"
      },
      "outputs": [
        {
          "output_type": "stream",
          "name": "stdout",
          "text": [
            "por favor, digite o usuário: fernando\n",
            "por favor, digite a senha: fernando\n",
            "Nome de Usuário não pode ser igual à Senha.\n",
            "\n",
            "por favor, digite o usuário: fernando\n",
            "por favor, digite a senha: nascimento\n",
            "Bem vindo!\n"
          ]
        }
      ],
      "source": [
        "# a = \"ola\"\n",
        "# while a != \"oi\":\n",
        "#     print(a)\n",
        "\n",
        "# a = \"ola\"\n",
        "# while a <> \"oi\":\n",
        "#     print(a)\n",
        "usuario = ''\n",
        "senha = ''\n",
        "while usuario == '' or usuario == senha:\n",
        "  usuario = input(\"por favor, digite o usuário: \")\n",
        "  senha = input(\"por favor, digite a senha: \")\n",
        "  if (usuario == senha):\n",
        "    print (\"Nome de Usuário não pode ser igual à Senha.\\n\")\n",
        "\n",
        "print(\"Bem vindo!\")"
      ]
    },
    {
      "cell_type": "markdown",
      "metadata": {
        "deletable": true,
        "editable": true,
        "id": "12oLwcr8pxHM"
      },
      "source": [
        "Exercicio 5 - Listas\n",
        "\n",
        "Faça uma rotina que leia um vetor de 10 números reais e mostre-os na ordem inversa."
      ]
    },
    {
      "cell_type": "code",
      "execution_count": null,
      "metadata": {
        "colab": {
          "base_uri": "https://localhost:8080/"
        },
        "collapsed": true,
        "deletable": true,
        "editable": true,
        "id": "YUrrh-dvpC-G",
        "outputId": "c718df54-433d-405c-d3a6-d7c85d492f9b"
      },
      "outputs": [
        {
          "output_type": "stream",
          "name": "stdout",
          "text": [
            "Insira uma lista de números separados por vírgula: 4,5,6,9,8,1,2,7,3\n",
            "[3.0, 7.0, 2.0, 1.0, 8.0, 9.0, 6.0, 5.0, 4.0]\n"
          ]
        }
      ],
      "source": [
        "# uma_lista = [11, \"oi\", 5.4, True]\n",
        "\n",
        "# i = 0\n",
        "# while i < len(uma_lista):\n",
        "    # print( \"elemento de indice %d = %d\"% (i, uma_lista[i]) )\n",
        "\n",
        "#A = [[1, 4, 5, 12],\n",
        "#    [-5, 8, 9, 0],\n",
        "#    [-6, 7, 11, 19]]\n",
        "\n",
        "#print(\"A =\", A)\n",
        "#print(\"A[1] =\", A[1])      # linha 2\n",
        "#print(\"A[1][2] =\", A[1][2])   # 3 elemento da linha 2\n",
        "listaBruta = input(\"Insira uma lista de números separados por vírgula: \").split(',')\n",
        "listaNumeros = [float(i) for i in listaBruta]\n",
        "listaInvertida = reversed(listaNumeros)\n",
        "print([i for i in listaInvertida])"
      ]
    },
    {
      "cell_type": "markdown",
      "metadata": {
        "deletable": true,
        "editable": true,
        "id": "BtNqxkt7Vmk6"
      },
      "source": [
        "Exercicio 6 - Listas\n",
        "\n",
        "Faça uma rotina que leia os dados de um cliente até que o usuário digite \"fim\" e os imprima na tela"
      ]
    },
    {
      "cell_type": "code",
      "execution_count": null,
      "metadata": {
        "colab": {
          "base_uri": "https://localhost:8080/"
        },
        "collapsed": true,
        "deletable": true,
        "editable": true,
        "id": "N42pHd5zVmAM",
        "outputId": "7f983d0d-e67b-425e-ae15-2f4da0fcdba2"
      },
      "outputs": [
        {
          "output_type": "stream",
          "name": "stdout",
          "text": [
            "diz qualquer coisa ai: fernando\n",
            "diz qualquer coisa ai: medeiros do nascimento\n",
            "diz qualquer coisa ai: 1990\n",
            "diz qualquer coisa ai: desempregado\n",
            "diz qualquer coisa ai: 33\n",
            "diz qualquer coisa ai: salvador, ba\n",
            "diz qualquer coisa ai: fim\n",
            "['fernando', 'medeiros do nascimento', '1990', 'desempregado', '33', 'salvador, ba', 'fim']\n"
          ]
        }
      ],
      "source": [
        "# cliente = [\"Fernanda\", \"Montenegro\", 1929, \"Central do Brasil\", 1998, \"Atriz\", \"Rio de Janeiro, RJ\"]\n",
        "# cliente.append(\"Brasil\")\n",
        "\n",
        "entradaUsuario = \"\"\n",
        "dadosCliente = []\n",
        "while entradaUsuario != 'fim':\n",
        "  entradaUsuario = input(\"Insira os dados do usuário: \")\n",
        "\n",
        "  if entradaUsuario!= 'fim':\n",
        "    dadosCliente.append(entradaUsuario)\n",
        "\n",
        "print(dadosCliente)"
      ]
    },
    {
      "cell_type": "markdown",
      "metadata": {
        "deletable": true,
        "editable": true,
        "id": "T2jBCh_1Wla-"
      },
      "source": [
        "Exercicio 7 - Funções\n",
        "\n",
        "Faça um programa com uma função chamada somaImposto. A função possui dois parâmetros de entrada: taxaImpostoVendas, que é a quantia de imposto sobre vendas expressa em porcentagem e custo, que é o custo de um item antes do imposto. A função retorna o valor de custo incluindo o imposto sobre vendas."
      ]
    },
    {
      "cell_type": "code",
      "execution_count": null,
      "metadata": {
        "collapsed": true,
        "deletable": true,
        "editable": true,
        "id": "emCDEA1zWk1l"
      },
      "outputs": [],
      "source": [
        "  #def notafinal(nota, diasatraso):\n",
        "  #  if (diasatraso == 0):\n",
        "  #    return nota\n",
        "  #  diasatraso-=1\n",
        "  #  return notafinal(nota-(nota*0.25), diasatraso)\n",
        "\n",
        "def somaImposto(taxaImpostoVendas, custo):\n",
        "  return custo + taxaImpostoVendas"
      ]
    },
    {
      "cell_type": "markdown",
      "metadata": {
        "id": "pSDqzKRvfXT7"
      },
      "source": [
        "Exercicio 8 - Strings\n",
        "\n",
        "Tamanho de strings. Faça um programa que leia 2 strings e informe o conteúdo delas seguido do seu comprimento. Informe também se as duas strings possuem o mesmo comprimento e são iguais ou diferentes no conteúdo.\n",
        "\n",
        "\n",
        "Compara duas strings\n",
        "\n",
        "String 1: Brasil Hexa 2006\n",
        "\n",
        "String 2: Brasil! Hexa 2006!\n",
        "\n",
        "Tamanho de \"Brasil Hexa 2006\": 16 caracteres\n",
        "\n",
        "Tamanho de \"Brasil! Hexa 2006!\": 18 caracteres\n",
        "\n",
        "As duas strings são de tamanhos diferentes.\n",
        "\n",
        "As duas strings possuem conteúdo diferente."
      ]
    },
    {
      "cell_type": "code",
      "execution_count": null,
      "metadata": {
        "collapsed": true,
        "colab": {
          "base_uri": "https://localhost:8080/"
        },
        "id": "9V46qJ0lfXT7",
        "outputId": "c8893c2a-54dd-4a05-c40b-894528e2858b"
      },
      "outputs": [
        {
          "output_type": "stream",
          "name": "stdout",
          "text": [
            "Digite a primeira string: ola enfermeira\n",
            "Digite a segunda string: ola aeromoça\n",
            "String 1: ola enfermeira\n",
            "String 2: ola aeromoça\n",
            "Tamanho de 'ola enfermeira': 14 caracteres\n",
            "Tamanho de 'ola aeromoça': 12 caracteres\n",
            "As duas strings são de tamanhos diferentes.\n",
            "As duas strings possuem conteúdo diferente.\n"
          ]
        }
      ],
      "source": [
        "#palavra2 = input('String 2: ')\n",
        "\n",
        "#print('Tamanho de \"%s\": %d ' % (palavra1, len(palavra1)))\n",
        "\n",
        "frase1 = input(\"Digite a primeira string: \")\n",
        "frase2 = input(\"Digite a segunda string: \")\n",
        "\n",
        "print(f\"String 1: {frase1}\")\n",
        "print(f\"String 2: {frase2}\")\n",
        "print(f\"Tamanho de '{frase1}': {len(frase1)} caracteres\")\n",
        "print(f\"Tamanho de '{frase2}': {len(frase2)} caracteres\")\n",
        "print(f\"{'As duas strings possuem o mesmo comprimento.' if len(frase1) == len(frase2) else 'As duas strings são de tamanhos diferentes.'}\")\n",
        "print(f\"{'As duas strings possuem o mesmo conteúdo.' if frase1 == frase2 else 'As duas strings possuem conteúdo diferente.'}\")"
      ]
    },
    {
      "cell_type": "markdown",
      "metadata": {
        "id": "5AEaRXMjfXT7"
      },
      "source": [
        "Exercicio 8 - Strings\n",
        "\n",
        "Faça um programa que permita ao usuário digitar o seu nome e em seguida mostre o nome do usuário de trás para frente\n",
        "utilizando somente letras maiúsculas."
      ]
    },
    {
      "cell_type": "code",
      "execution_count": null,
      "metadata": {
        "collapsed": true,
        "colab": {
          "base_uri": "https://localhost:8080/"
        },
        "id": "-HlPQYpgfXT8",
        "outputId": "a4220559-86e8-4159-cdc9-deeb302846bc"
      },
      "outputs": [
        {
          "output_type": "stream",
          "name": "stdout",
          "text": [
            "Digite o seu nome: Fernando\n",
            "ODNANREF\n"
          ]
        }
      ],
      "source": [
        "#str = 'nome'\n",
        "\n",
        "#nome = str.upper()\n",
        "nome = input(\"Digite o seu nome: \")\n",
        "\n",
        "print(nome.upper()[::-1])"
      ]
    }
  ],
  "metadata": {
    "colab": {
      "provenance": [],
      "include_colab_link": true
    },
    "kernelspec": {
      "display_name": "Python 3",
      "language": "python",
      "name": "python3"
    },
    "language_info": {
      "codemirror_mode": {
        "name": "ipython",
        "version": 3
      },
      "file_extension": ".py",
      "mimetype": "text/x-python",
      "name": "python",
      "nbconvert_exporter": "python",
      "pygments_lexer": "ipython3",
      "version": "3.5.2"
    }
  },
  "nbformat": 4,
  "nbformat_minor": 0
}